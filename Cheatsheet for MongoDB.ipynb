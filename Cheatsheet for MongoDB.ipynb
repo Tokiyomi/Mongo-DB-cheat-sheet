{
 "cells": [
  {
   "cell_type": "markdown",
   "metadata": {},
   "source": [
    "# MongoDB Cheatsheet\n",
    "\n",
    "An easy way to understand the very basics. :)\n",
    "\n",
    "Made by [Alan Peraza](https://github.com/alanperaza)"
   ]
  },
  {
   "cell_type": "markdown",
   "metadata": {},
   "source": [
    "### Downloading MongoDB\n",
    "\n",
    "Yoy can do it [in this link](https://www.mongodb.com/download-center)"
   ]
  },
  {
   "cell_type": "markdown",
   "metadata": {},
   "source": [
    "### Add Mongo to the Path Enviromental Variable\n",
    "\n",
    "If you want to use it from the command line, I recommend you to use [this tutorial](https://dangphongvanthanh.wordpress.com/2017/06/12/add-mongos-bin-folder-to-the-path-environment-variable/)"
   ]
  },
  {
   "cell_type": "markdown",
   "metadata": {},
   "source": [
    "### Starting: Connect to a server\n",
    "`mongo \"mongodb+srv://cluster0-cdd34.mongodb.net/next\" --username`\n",
    "\n",
    "Where *username* is the one given by the creator of the server. Sometimes a password will be required."
   ]
  },
  {
   "cell_type": "markdown",
   "metadata": {},
   "source": [
    "### Get to know the datatypes:\n",
    "Here you have some examples:\n",
    "\n",
    "* Booleans:  `false, true`\n",
    "* Integer: `1, 2, 3`\n",
    "* Float: `3.1217`\n",
    "* Double\n",
    "* Strings: `\"GenericWord123\"`. Must be UTF-8 valid.\n",
    "* Arrays: `[\"A\", \"B\", \"C\"]`\n",
    "* Object ID: This datatype is used to store the document’s ID.\n",
    "* Object: `{\"flavor\": \"Mango\", \"availability\": 35}`\n",
    "* ISO Date: This is a specific type for dates, as you may see in MySQL.\n",
    "* Null: `null`\n",
    "\n",
    "\n",
    "See more datatypes >> [here](https://www.tutorialspoint.com/mongodb/mongodb_datatype.htm) <<"
   ]
  },
  {
   "cell_type": "markdown",
   "metadata": {},
   "source": [
    "## The real cheatsheet: Using commands in the path enviroment\n",
    "Here are some commands that will help you when you are starting a project."
   ]
  },
  {
   "cell_type": "markdown",
   "metadata": {},
   "source": [
    "### Operators to compare:\n",
    "I attached this since it is very common wanting to use <, >, = and so on.\n",
    "\n",
    "* Greater than: `$gt` is equivalent to >\n",
    "* Less than: `$lt` is equivalent to <\n",
    "* Different from: `$ne` is equivalent to !=. Actually \"ne\" stands for *not equal*.\n",
    "* Grater than or equal to: `$gte` is equivalent to >=\n",
    "* Less than or equal to: `$lte` is equivalent to <="
   ]
  },
  {
   "cell_type": "markdown",
   "metadata": {},
   "source": [
    "### Showing ang getting to know the database:\n",
    "\n",
    "`show dbs`: Shows the previously created database(s).\n",
    "\n",
    "`use` + `Database Name`: Access the database you typed. Error if not exists.\n",
    "\n",
    "`db.CreateCollection(\"DesiredName\")`: Once inside a database, creates a collection inside of it.\n",
    "\n",
    "You don't know which database you're in? just type `db`"
   ]
  },
  {
   "cell_type": "markdown",
   "metadata": {},
   "source": [
    "### Inserting and deleting/removing data from a collection:\n",
    "\n",
    "`db.nameOfDatabase.insert({\"data\": \"value\"})`: inserts a document within the collection you are currently in. If not exists, Mongo DB will automatically create it.\n",
    "\n",
    "`db.nameOfDatabase.remove({\"data\": \"value\"})`: removes the data that matches the *{\"data\": \"value\"}* of your request.\n",
    "\n",
    "This is a easy-to-remember format, since it follows the JSON format. :)"
   ]
  },
  {
   "cell_type": "markdown",
   "metadata": {},
   "source": [
    "### The *find* command.\n",
    "This one of the most powerful commands. And you'll see why.\n",
    "\n"
   ]
  },
  {
   "cell_type": "markdown",
   "metadata": {},
   "source": [
    "* To show every document within the collection: `db.NameOfDatabase.find()`\n",
    "\n",
    "\n",
    "* To show every document with a specific value use: `db.NameOfDatabase.find( {\"data\" : \"value\"} )`. It'll return all documents that match with the data you typed. You can be as specific as you want and enter more than one \"data\".\n",
    "\n",
    "\n",
    "* If you wants a specific number of documents to show when making a query, use `db.NameOfDatabase.find.().limit(NumberOfResults)`\n",
    "\n",
    "\n",
    "* If you want to know how many documents Mongo DB could find (according to your query), use `db.NameOfDatabase.find().count()`\n",
    "\n",
    "\n",
    "* To show sorted data use `db.NameOfDatabase.find().sort({\"data\": N})`. Replace N with 1 for ascending order and -1 for descending order.\n",
    "\n",
    "\n",
    "* If you want to skip a certain amoun of documents and put a limit, use `db.NameOfDatabase.find().skip(Number).limit(Number)`"
   ]
  },
  {
   "cell_type": "markdown",
   "metadata": {},
   "source": [
    "### The *update* command.\n",
    "\n",
    "* To update data, the basic format is like this `db.NameOfDatabase.update({\"data\": \"value\"}, {\"$set\": {\"data\": \"value\"}})`. What Mongo does is to find the documents that match with the first { } and then set new values, which you specified in the second { }.\n",
    "\n",
    "\n",
    "* To increment a number, use `db.NameOfDatabase.update({\"data\": \"value\"}, {\"$inc\": {\"data\": Number})`. It is similar to the previous one, just change *set* to *inc*\n",
    "\n",
    "\n",
    "* To erase specific information from a document use `db.NameOfDatabase.update({\"data\": \"value\"}, {\"$unset\": {\"data\": \"DataToRemove\"})`.\n",
    "\n",
    "\n",
    "* Instead, if you want to do the same, but with multiple docs, use {\"multi\" : true].\n"
   ]
  },
  {
   "cell_type": "markdown",
   "metadata": {},
   "source": [
    "### The *aggregate* command:\n",
    "Useful when combining data\n",
    "\n",
    "* `db.NameOfDatabase.aggregate({\"$group\": {\"$-id\": $value})`\n",
    "\n",
    "\n",
    "* `db.NameOfDatabase.aggregate({\"$group\": {\"$-id\": $value, \"total\": {\"sum\": 1}}})`"
   ]
  },
  {
   "cell_type": "markdown",
   "metadata": {},
   "source": [
    "### The *pretty*\n",
    "If you do not tolerate watch everything in a single line as if it has no order at all, always use the *pretty* command at the end of your queries.\n",
    "\n",
    "Use something like this:\n",
    "`db.NameOfDatabase.find().pretty()`\n",
    "\n",
    "And see the results. As you may see, it helps a lot when reading data. I recommend to use it every time since it will help you to read way faster."
   ]
  },
  {
   "cell_type": "markdown",
   "metadata": {},
   "source": [
    "Check out The Magical Marverls of MongoDB for more information. \n",
    "\n",
    "Thanks for reading!"
   ]
  }
 ],
 "metadata": {
  "kernelspec": {
   "display_name": "Python 3",
   "language": "python",
   "name": "python3"
  },
  "language_info": {
   "codemirror_mode": {
    "name": "ipython",
    "version": 3
   },
   "file_extension": ".py",
   "mimetype": "text/x-python",
   "name": "python",
   "nbconvert_exporter": "python",
   "pygments_lexer": "ipython3",
   "version": "3.7.4"
  }
 },
 "nbformat": 4,
 "nbformat_minor": 2
}
